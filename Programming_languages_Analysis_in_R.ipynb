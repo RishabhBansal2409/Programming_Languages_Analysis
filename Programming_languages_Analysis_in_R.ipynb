{
 "cells": [
  {
   "cell_type": "markdown",
   "metadata": {},
   "source": [
    "## 1. Data on tags over time\n",
    "<p>How can we tell what programming languages and technologies are used by the most people? How about what languages are growing and which are shrinking, so that we can tell which are most worth investing time in?</p>\n",
    "<p>One excellent source of data is <a href=\"https://stackoverflow.com/\">Stack Overflow</a>, a programming question and answer site with more than 16 million questions on programming topics. By measuring the number of questions about each technology, we can get an approximate sense of how many people are using it. We're going to use open data from the <a href=\"https://data.stackexchange.com/\">Stack Exchange Data Explorer</a> to examine the relative popularity of languages like R, Python, Java and Javascript have changed over time.</p>\n",
    "<p>Each Stack Overflow question has a <strong>tag</strong>, which marks a question to describe its topic or technology. For instance, there's a tag for languages like <a href=\"https://stackoverflow.com/tags/r\">R</a> or <a href=\"https://stackoverflow.com/tags/python\">Python</a>, and for packages like <a href=\"https://stackoverflow.com/questions/tagged/ggplot2\">ggplot2</a> or <a href=\"https://stackoverflow.com/questions/tagged/pandas\">pandas</a>.</p>"
   ]
  },
  {
   "cell_type": "code",
   "execution_count": 1,
   "metadata": {},
   "outputs": [
    {
     "name": "stderr",
     "output_type": "stream",
     "text": [
      "Parsed with column specification:\n",
      "cols(\n",
      "  year = col_double(),\n",
      "  tag = col_character(),\n",
      "  number = col_double(),\n",
      "  year_total = col_double()\n",
      ")\n"
     ]
    },
    {
     "data": {
      "text/html": [
       "<table>\n",
       "<thead><tr><th scope=col>year</th><th scope=col>tag</th><th scope=col>number</th><th scope=col>year_total</th></tr></thead>\n",
       "<tbody>\n",
       "\t<tr><td>2008         </td><td>.htaccess    </td><td>  54         </td><td>58390        </td></tr>\n",
       "\t<tr><td>2008         </td><td>.net         </td><td>5910         </td><td>58390        </td></tr>\n",
       "\t<tr><td>2008         </td><td>.net-2.0     </td><td> 289         </td><td>58390        </td></tr>\n",
       "\t<tr><td>2008         </td><td>.net-3.5     </td><td> 319         </td><td>58390        </td></tr>\n",
       "\t<tr><td>2008         </td><td>.net-4.0     </td><td>   6         </td><td>58390        </td></tr>\n",
       "\t<tr><td>2008         </td><td>.net-assembly</td><td>   3         </td><td>58390        </td></tr>\n",
       "</tbody>\n",
       "</table>\n"
      ],
      "text/latex": [
       "\\begin{tabular}{r|llll}\n",
       " year & tag & number & year\\_total\\\\\n",
       "\\hline\n",
       "\t 2008          & .htaccess     &   54          & 58390        \\\\\n",
       "\t 2008          & .net          & 5910          & 58390        \\\\\n",
       "\t 2008          & .net-2.0      &  289          & 58390        \\\\\n",
       "\t 2008          & .net-3.5      &  319          & 58390        \\\\\n",
       "\t 2008          & .net-4.0      &    6          & 58390        \\\\\n",
       "\t 2008          & .net-assembly &    3          & 58390        \\\\\n",
       "\\end{tabular}\n"
      ],
      "text/markdown": [
       "\n",
       "| year | tag | number | year_total |\n",
       "|---|---|---|---|\n",
       "| 2008          | .htaccess     |   54          | 58390         |\n",
       "| 2008          | .net          | 5910          | 58390         |\n",
       "| 2008          | .net-2.0      |  289          | 58390         |\n",
       "| 2008          | .net-3.5      |  319          | 58390         |\n",
       "| 2008          | .net-4.0      |    6          | 58390         |\n",
       "| 2008          | .net-assembly |    3          | 58390         |\n",
       "\n"
      ],
      "text/plain": [
       "  year tag           number year_total\n",
       "1 2008 .htaccess       54   58390     \n",
       "2 2008 .net          5910   58390     \n",
       "3 2008 .net-2.0       289   58390     \n",
       "4 2008 .net-3.5       319   58390     \n",
       "5 2008 .net-4.0         6   58390     \n",
       "6 2008 .net-assembly    3   58390     "
      ]
     },
     "metadata": {},
     "output_type": "display_data"
    }
   ],
   "source": [
    "# Loading the libraries\n",
    "library(readr,warn.conflicts = FALSE)\n",
    "library(dplyr,warn.conflicts = FALSE)\n",
    "\n",
    "# Loading the dataset\n",
    "by_tag_year <- read_csv('C:/users/nisha/Desktop/by_tag_year.csv')\n",
    "\n",
    "# Inspecting the dataset\n",
    "head(by_tag_year)"
   ]
  },
  {
   "cell_type": "markdown",
   "metadata": {},
   "source": [
    "## 2. Now in fraction format\n",
    "<p>This data has one observation for each pair of a tag and a year, showing the number of questions asked in that tag in that year and the total number of questions asked in that year. For instance, there were 54 questions asked about the <code>.htaccess</code> tag in 2008, out of a total of 58390 questions in that year.</p>\n",
    "<p>Rather than just the counts, we're probably interested in a percentage: the fraction of questions that year that have that tag. So let's add that to the table.</p>"
   ]
  },
  {
   "cell_type": "code",
   "execution_count": 2,
   "metadata": {},
   "outputs": [
    {
     "data": {
      "text/html": [
       "<table>\n",
       "<thead><tr><th scope=col>year</th><th scope=col>tag</th><th scope=col>number</th><th scope=col>year_total</th><th scope=col>fraction</th></tr></thead>\n",
       "<tbody>\n",
       "\t<tr><td>2008         </td><td>.htaccess    </td><td>  54         </td><td>58390        </td><td>9.248159e-04 </td></tr>\n",
       "\t<tr><td>2008         </td><td>.net         </td><td>5910         </td><td>58390        </td><td>1.012160e-01 </td></tr>\n",
       "\t<tr><td>2008         </td><td>.net-2.0     </td><td> 289         </td><td>58390        </td><td>4.949478e-03 </td></tr>\n",
       "\t<tr><td>2008         </td><td>.net-3.5     </td><td> 319         </td><td>58390        </td><td>5.463264e-03 </td></tr>\n",
       "\t<tr><td>2008         </td><td>.net-4.0     </td><td>   6         </td><td>58390        </td><td>1.027573e-04 </td></tr>\n",
       "\t<tr><td>2008         </td><td>.net-assembly</td><td>   3         </td><td>58390        </td><td>5.137866e-05 </td></tr>\n",
       "</tbody>\n",
       "</table>\n"
      ],
      "text/latex": [
       "\\begin{tabular}{r|lllll}\n",
       " year & tag & number & year\\_total & fraction\\\\\n",
       "\\hline\n",
       "\t 2008          & .htaccess     &   54          & 58390         & 9.248159e-04 \\\\\n",
       "\t 2008          & .net          & 5910          & 58390         & 1.012160e-01 \\\\\n",
       "\t 2008          & .net-2.0      &  289          & 58390         & 4.949478e-03 \\\\\n",
       "\t 2008          & .net-3.5      &  319          & 58390         & 5.463264e-03 \\\\\n",
       "\t 2008          & .net-4.0      &    6          & 58390         & 1.027573e-04 \\\\\n",
       "\t 2008          & .net-assembly &    3          & 58390         & 5.137866e-05 \\\\\n",
       "\\end{tabular}\n"
      ],
      "text/markdown": [
       "\n",
       "| year | tag | number | year_total | fraction |\n",
       "|---|---|---|---|---|\n",
       "| 2008          | .htaccess     |   54          | 58390         | 9.248159e-04  |\n",
       "| 2008          | .net          | 5910          | 58390         | 1.012160e-01  |\n",
       "| 2008          | .net-2.0      |  289          | 58390         | 4.949478e-03  |\n",
       "| 2008          | .net-3.5      |  319          | 58390         | 5.463264e-03  |\n",
       "| 2008          | .net-4.0      |    6          | 58390         | 1.027573e-04  |\n",
       "| 2008          | .net-assembly |    3          | 58390         | 5.137866e-05  |\n",
       "\n"
      ],
      "text/plain": [
       "  year tag           number year_total fraction    \n",
       "1 2008 .htaccess       54   58390      9.248159e-04\n",
       "2 2008 .net          5910   58390      1.012160e-01\n",
       "3 2008 .net-2.0       289   58390      4.949478e-03\n",
       "4 2008 .net-3.5       319   58390      5.463264e-03\n",
       "5 2008 .net-4.0         6   58390      1.027573e-04\n",
       "6 2008 .net-assembly    3   58390      5.137866e-05"
      ]
     },
     "metadata": {},
     "output_type": "display_data"
    }
   ],
   "source": [
    "# Adding fraction column\n",
    "by_tag_year_fraction <- mutate(by_tag_year , fraction = number/year_total)\n",
    "\n",
    "# Printing the new table\n",
    "head(by_tag_year_fraction)"
   ]
  },
  {
   "cell_type": "markdown",
   "metadata": {},
   "source": [
    "## 3. Has R been growing or shrinking?\n",
    "<p>Let's look at whether the fraction of Stack Overflow questions that are about R has been increasing or decreasing over time.</p>"
   ]
  },
  {
   "cell_type": "code",
   "execution_count": 3,
   "metadata": {},
   "outputs": [
    {
     "data": {
      "text/html": [
       "<table>\n",
       "<thead><tr><th scope=col>year</th><th scope=col>tag</th><th scope=col>number</th><th scope=col>year_total</th><th scope=col>fraction</th></tr></thead>\n",
       "<tbody>\n",
       "\t<tr><td>2008        </td><td>r           </td><td>    8       </td><td>  58390     </td><td>0.0001370098</td></tr>\n",
       "\t<tr><td>2009        </td><td>r           </td><td>  524       </td><td> 343868     </td><td>0.0015238405</td></tr>\n",
       "\t<tr><td>2010        </td><td>r           </td><td> 2270       </td><td> 694391     </td><td>0.0032690516</td></tr>\n",
       "\t<tr><td>2011        </td><td>r           </td><td> 5845       </td><td>1200551     </td><td>0.0048685978</td></tr>\n",
       "\t<tr><td>2012        </td><td>r           </td><td>12221       </td><td>1645404     </td><td>0.0074273552</td></tr>\n",
       "\t<tr><td>2013        </td><td>r           </td><td>22329       </td><td>2060473     </td><td>0.0108368321</td></tr>\n",
       "\t<tr><td>2014        </td><td>r           </td><td>31011       </td><td>2164701     </td><td>0.0143257660</td></tr>\n",
       "\t<tr><td>2015        </td><td>r           </td><td>40844       </td><td>2219527     </td><td>0.0184021190</td></tr>\n",
       "\t<tr><td>2016        </td><td>r           </td><td>44611       </td><td>2226072     </td><td>0.0200402323</td></tr>\n",
       "\t<tr><td>2017        </td><td>r           </td><td>54415       </td><td>2305207     </td><td>0.0236052554</td></tr>\n",
       "\t<tr><td>2018        </td><td>r           </td><td>28938       </td><td>1085170     </td><td>0.0266667895</td></tr>\n",
       "</tbody>\n",
       "</table>\n"
      ],
      "text/latex": [
       "\\begin{tabular}{r|lllll}\n",
       " year & tag & number & year\\_total & fraction\\\\\n",
       "\\hline\n",
       "\t 2008         & r            &     8        &   58390      & 0.0001370098\\\\\n",
       "\t 2009         & r            &   524        &  343868      & 0.0015238405\\\\\n",
       "\t 2010         & r            &  2270        &  694391      & 0.0032690516\\\\\n",
       "\t 2011         & r            &  5845        & 1200551      & 0.0048685978\\\\\n",
       "\t 2012         & r            & 12221        & 1645404      & 0.0074273552\\\\\n",
       "\t 2013         & r            & 22329        & 2060473      & 0.0108368321\\\\\n",
       "\t 2014         & r            & 31011        & 2164701      & 0.0143257660\\\\\n",
       "\t 2015         & r            & 40844        & 2219527      & 0.0184021190\\\\\n",
       "\t 2016         & r            & 44611        & 2226072      & 0.0200402323\\\\\n",
       "\t 2017         & r            & 54415        & 2305207      & 0.0236052554\\\\\n",
       "\t 2018         & r            & 28938        & 1085170      & 0.0266667895\\\\\n",
       "\\end{tabular}\n"
      ],
      "text/markdown": [
       "\n",
       "| year | tag | number | year_total | fraction |\n",
       "|---|---|---|---|---|\n",
       "| 2008         | r            |     8        |   58390      | 0.0001370098 |\n",
       "| 2009         | r            |   524        |  343868      | 0.0015238405 |\n",
       "| 2010         | r            |  2270        |  694391      | 0.0032690516 |\n",
       "| 2011         | r            |  5845        | 1200551      | 0.0048685978 |\n",
       "| 2012         | r            | 12221        | 1645404      | 0.0074273552 |\n",
       "| 2013         | r            | 22329        | 2060473      | 0.0108368321 |\n",
       "| 2014         | r            | 31011        | 2164701      | 0.0143257660 |\n",
       "| 2015         | r            | 40844        | 2219527      | 0.0184021190 |\n",
       "| 2016         | r            | 44611        | 2226072      | 0.0200402323 |\n",
       "| 2017         | r            | 54415        | 2305207      | 0.0236052554 |\n",
       "| 2018         | r            | 28938        | 1085170      | 0.0266667895 |\n",
       "\n"
      ],
      "text/plain": [
       "   year tag number year_total fraction    \n",
       "1  2008 r       8    58390    0.0001370098\n",
       "2  2009 r     524   343868    0.0015238405\n",
       "3  2010 r    2270   694391    0.0032690516\n",
       "4  2011 r    5845  1200551    0.0048685978\n",
       "5  2012 r   12221  1645404    0.0074273552\n",
       "6  2013 r   22329  2060473    0.0108368321\n",
       "7  2014 r   31011  2164701    0.0143257660\n",
       "8  2015 r   40844  2219527    0.0184021190\n",
       "9  2016 r   44611  2226072    0.0200402323\n",
       "10 2017 r   54415  2305207    0.0236052554\n",
       "11 2018 r   28938  1085170    0.0266667895"
      ]
     },
     "metadata": {},
     "output_type": "display_data"
    }
   ],
   "source": [
    "# Filtering for R tags\n",
    "r_over_time <- filter(by_tag_year_fraction , tag == 'r')\n",
    "\n",
    "# Printing the new table\n",
    "r_over_time"
   ]
  },
  {
   "cell_type": "markdown",
   "metadata": {},
   "source": [
    "## 4. Visualizing change over time\n",
    "<p>Visualizing Change over time with a line plot.</p>"
   ]
  },
  {
   "cell_type": "code",
   "execution_count": 4,
   "metadata": {},
   "outputs": [
    {
     "name": "stderr",
     "output_type": "stream",
     "text": [
      "Warning message:\n",
      "\"package 'ggplot2' was built under R version 3.6.3\""
     ]
    },
    {
     "data": {
      "image/png": "[encoded data removed]",
      "text/plain": [
       "plot without title"
      ]
     },
     "metadata": {},
     "output_type": "display_data"
    }
   ],
   "source": [
    "# Load ggplot2\n",
    "library(ggplot2)\n",
    "\n",
    "# Create a line plot of fraction over time\n",
    "library(repr)\n",
    "options(repr.plot.width=4, repr.plot.height=3)\n",
    "ggplot(r_over_time , aes(x = year , y = fraction)) + geom_line(colour = 'red')+ \n",
    "           xlab('Year')+\n",
    "           ylab('Fraction of R tags')+\n",
    "           scale_x_continuous(breaks = round(seq(min(r_over_time$year), max(r_over_time$year), by = 2),1))+\n",
    "           ggtitle('Fraction of R tags year on year')+\n",
    "           theme(axis.title=element_text(size=8, colour = \"red\", face = \"bold\"), \n",
    "                 plot.title = element_text(size=8, colour = \"blue\", face = \"bold\" , hjust = 0.5))"
   ]
  },
  {
   "cell_type": "markdown",
   "metadata": {},
   "source": [
    "## 5. How about dplyr and ggplot2?\n",
    "<p>Based on the graph above , it looks like R has been growing pretty fast in the last decade.</p>\n",
    "<p>Besides R, two other interesting tags are dplyr and ggplot2. They both also have Stack Overflow tags!</p>\n",
    "<p>Instead of just looking at R, let's look at all three tags and their change over time. Are each of those tags increasing as a fraction of overall questions? Are any of them decreasing?</p>"
   ]
  },
  {
   "cell_type": "code",
   "execution_count": 5,
   "metadata": {},
   "outputs": [
    {
     "data": {
      "image/png": "[encoded data removed]",
      "text/plain": [
       "plot without title"
      ]
     },
     "metadata": {},
     "output_type": "display_data"
    }
   ],
   "source": [
    "# A vector of selected tags\n",
    "selected_tags <- c('r' , 'dplyr' , 'ggplot2')\n",
    "\n",
    "# Filter for those tags\n",
    "selected_tags_over_time <- by_tag_year_fraction %>% filter(tag %in% selected_tags)\n",
    "\n",
    "# Plot tags over time on a line plot using color to represent tag\n",
    "ggplot(selected_tags_over_time , aes(x = year , y = fraction , colour = tag)) + geom_line()+\n",
    "           xlab('Year')+\n",
    "           ylab('Fraction of R,dplyr,ggplot2 tags')+        \n",
    "           ggtitle('Growth of R,dplyr,ggplot2 year on year')+\n",
    "           scale_x_continuous(breaks = round(seq(min(r_over_time$year), max(r_over_time$year), by = 2),1))+\n",
    "           theme(axis.title=element_text(size=8, colour = \"red\", face = \"bold\"), \n",
    "                 plot.title = element_text(size=8, colour = \"blue\", face = \"bold\" , hjust = 0.5))"
   ]
  },
  {
   "cell_type": "markdown",
   "metadata": {},
   "source": [
    "## 6. What are the most asked-about tags?\n",
    "<p> The dplyr and ggplot2 tags may not have as many questions as R, but individually,they're both growing quickly as well.</p>\n",
    "<p>Next thing to watch is which tags have the most questions <em>overall</em>, across all the years. That means we want <code>group_by()</code> and <code>summarize()</code>.</p>\n",
    "<p>Let's look at tags that have the most questions in history.</p>"
   ]
  },
  {
   "cell_type": "code",
   "execution_count": 6,
   "metadata": {},
   "outputs": [
    {
     "data": {
      "text/html": [
       "<table>\n",
       "<thead><tr><th scope=col>tag</th><th scope=col>tag_total</th></tr></thead>\n",
       "<tbody>\n",
       "\t<tr><td>javascript</td><td>1632049   </td></tr>\n",
       "\t<tr><td>java      </td><td>1425961   </td></tr>\n",
       "\t<tr><td>c#        </td><td>1217450   </td></tr>\n",
       "\t<tr><td>php       </td><td>1204291   </td></tr>\n",
       "\t<tr><td>android   </td><td>1110261   </td></tr>\n",
       "\t<tr><td>python    </td><td> 970768   </td></tr>\n",
       "\t<tr><td>jquery    </td><td> 915159   </td></tr>\n",
       "\t<tr><td>html      </td><td> 755341   </td></tr>\n",
       "\t<tr><td>c++       </td><td> 574263   </td></tr>\n",
       "\t<tr><td>ios       </td><td> 566075   </td></tr>\n",
       "</tbody>\n",
       "</table>\n"
      ],
      "text/latex": [
       "\\begin{tabular}{r|ll}\n",
       " tag & tag\\_total\\\\\n",
       "\\hline\n",
       "\t javascript & 1632049   \\\\\n",
       "\t java       & 1425961   \\\\\n",
       "\t c\\#         & 1217450     \\\\\n",
       "\t php        & 1204291   \\\\\n",
       "\t android    & 1110261   \\\\\n",
       "\t python     &  970768   \\\\\n",
       "\t jquery     &  915159   \\\\\n",
       "\t html       &  755341   \\\\\n",
       "\t c++        &  574263   \\\\\n",
       "\t ios        &  566075   \\\\\n",
       "\\end{tabular}\n"
      ],
      "text/markdown": [
       "\n",
       "| tag | tag_total |\n",
       "|---|---|\n",
       "| javascript | 1632049    |\n",
       "| java       | 1425961    |\n",
       "| c#         | 1217450    |\n",
       "| php        | 1204291    |\n",
       "| android    | 1110261    |\n",
       "| python     |  970768    |\n",
       "| jquery     |  915159    |\n",
       "| html       |  755341    |\n",
       "| c++        |  574263    |\n",
       "| ios        |  566075    |\n",
       "\n"
      ],
      "text/plain": [
       "   tag        tag_total\n",
       "1  javascript 1632049  \n",
       "2  java       1425961  \n",
       "3  c#         1217450  \n",
       "4  php        1204291  \n",
       "5  android    1110261  \n",
       "6  python      970768  \n",
       "7  jquery      915159  \n",
       "8  html        755341  \n",
       "9  c++         574263  \n",
       "10 ios         566075  "
      ]
     },
     "metadata": {},
     "output_type": "display_data"
    }
   ],
   "source": [
    "# Find total number of questions for each tag\n",
    "sorted_tags <- by_tag_year %>% group_by(tag) %>% summarize(tag_total = sum(number)) %>% arrange(-tag_total) \n",
    "\n",
    "# Print the new table\n",
    "head(sorted_tags , 10)"
   ]
  },
  {
   "cell_type": "markdown",
   "metadata": {},
   "source": [
    "## 7. How have large programming languages changed over time?\n",
    "<p>We've looked at selected tags like R, ggplot2, and dplyr, and seen that they're each growing. What tags might be <em>shrinking</em>? A good place to start is to plot the tags that we just saw that were the most-asked about of all time, including JavaScript, Java and C#.</p>"
   ]
  },
  {
   "cell_type": "code",
   "execution_count": 7,
   "metadata": {},
   "outputs": [
    {
     "data": {
      "image/png": "[encoded data removed]",
      "text/plain": [
       "plot without title"
      ]
     },
     "metadata": {},
     "output_type": "display_data"
    }
   ],
   "source": [
    "# Get the six largest tags\n",
    "highest_tags <- head(sorted_tags$tag)\n",
    "\n",
    "# Filter for the six largest tags\n",
    "by_tag_subset <- by_tag_year_fraction %>% filter(tag %in% highest_tags)\n",
    "\n",
    "# Plot tags over time on a line plot using color to represent tag\n",
    "library(repr)\n",
    "options(repr.plot.width=7, repr.plot.height=4)\n",
    "ggplot(by_tag_subset , aes(x = year , y = fraction , colour = tag)) + geom_line()+\n",
    "           xlab('Year')+\n",
    "           ylab(\"Fraction of programming languages' tags\")+\n",
    "           ggtitle('Growth of various programming languages year on year')+\n",
    "           scale_x_continuous(breaks = round(seq(min(r_over_time$year), max(r_over_time$year), by = 2),1))+\n",
    "           theme(axis.title=element_text(size=8, colour = \"red\", face = \"bold\"), \n",
    "                 plot.title = element_text(size=8, colour = \"blue\", face = \"bold\" , hjust = 0.5))"
   ]
  },
  {
   "cell_type": "markdown",
   "metadata": {},
   "source": [
    "## 8. Some more tags!\n",
    "<p>Based on that graph we've seen a lot of changes in what programming languages are most asked about.</p>  \n",
    "\n",
    "C# gets fewer questions than it used to, and Python has grown quite impressively.\n",
    "\n",
    "<p>Now,let's check out how three big mobile operating systems (Android, iOS, and Windows Phone) have compared in popularity over time.</p>"
   ]
  },
  {
   "cell_type": "code",
   "execution_count": 8,
   "metadata": {},
   "outputs": [
    {
     "data": {
      "image/png": "[encoded data removed]",
      "text/plain": [
       "plot without title"
      ]
     },
     "metadata": {},
     "output_type": "display_data"
    }
   ],
   "source": [
    "# Get tags of interest\n",
    "my_tags <- c('android' , 'ios' , 'windows-phone')\n",
    "\n",
    "# Filter for those tags\n",
    "by_tag_subset <- by_tag_year_fraction %>% filter(tag %in% my_tags)\n",
    "\n",
    "# Plot tags over time on a line plot using color to represent tag\n",
    "library(repr)\n",
    "options(repr.plot.width=7, repr.plot.height=4)\n",
    "ggplot(by_tag_subset , aes(x = year , y = fraction , colour = tag)) + geom_line() +\n",
    "        xlab('Year')+\n",
    "        ylab('Fraction of operating system tags')+\n",
    "        ggtitle('Growth of Operating System year on year')+\n",
    "        scale_x_continuous(breaks = round(seq(min(r_over_time$year), max(r_over_time$year), by = 2),1))+\n",
    "        theme(axis.title=element_text(size=8, colour = \"red\", face = \"bold\"), \n",
    "        plot.title = element_text(size=8, colour = \"blue\", face = \"bold\" , hjust = 0.5))"
   ]
  }
 ],
 "metadata": {
  "kernelspec": {
   "display_name": "R",
   "language": "R",
   "name": "ir"
  },
  "language_info": {
   "codemirror_mode": "r",
   "file_extension": ".r",
   "mimetype": "text/x-r-source",
   "name": "R",
   "pygments_lexer": "r",
   "version": "3.6.1"
  }
 },
 "nbformat": 4,
 "nbformat_minor": 2
}
